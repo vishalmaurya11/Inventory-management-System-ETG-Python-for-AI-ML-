{
  "nbformat": 4,
  "nbformat_minor": 0,
  "metadata": {
    "colab": {
      "name": "Purchasing products.ipynb",
      "provenance": []
    },
    "kernelspec": {
      "name": "python3",
      "display_name": "Python 3"
    },
    "language_info": {
      "name": "python"
    }
  },
  "cells": [
    {
      "cell_type": "code",
      "metadata": {
        "id": "mhefErOLkZCy"
      },
      "source": [
        "import json\n",
        "fd=open(\"record.json\",'r')\n",
        "r=fd.read()\n",
        "fd.close()\n",
        "\n",
        "records=json.loads(r)"
      ],
      "execution_count": 68,
      "outputs": []
    },
    {
      "cell_type": "code",
      "metadata": {
        "id": "6oxpsEuvktk5",
        "colab": {
          "base_uri": "https://localhost:8080/"
        },
        "outputId": "0cabd0ce-e2b8-404d-cc1d-3cdadddfd5ba"
      },
      "source": [
        "records"
      ],
      "execution_count": 61,
      "outputs": [
        {
          "output_type": "execute_result",
          "data": {
            "text/plain": [
              "{'1001': {'name': 'Biscuit', 'pr': 100, 'qn': 4},\n",
              " '1002': {'name': 'Cake', 'pr': 600, 'qn': 15},\n",
              " '1003': {'name': 'Chocolate', 'pr': 65, 'qn': 98},\n",
              " '1004': {'name': 'Coldrink', 'pr': 50, 'qn': 144},\n",
              " '1005': {'name': 'Bread', 'pr': 20, 'qn': 98},\n",
              " '1006': {'name': 'Pastry', 'pr': 50, 'qn': 25},\n",
              " '1007': {'name': 'Muffins', 'pr': 30, 'qn': 70},\n",
              " '1008': {'name': 'Rusk toast', 'pr': 40, 'qn': 20},\n",
              " '1009': {'name': 'Butter', 'pr': 20, 'qn': 20},\n",
              " '1010': {'name': 'Chocolate Icecream', 'pr': 300, 'qn': 10},\n",
              " '1011': {'name': 'Vanilla Icecream', 'pr': 250, 'qn': 10},\n",
              " '1012': {'name': 'Strawberry Icecream', 'pr': 250, 'qn': 10},\n",
              " '1013': {'name': 'Kaju Pista Icecream', 'pr': 300, 'qn': 10},\n",
              " '1014': {'name': 'Almonds', 'pr': 900, 'qn': 10},\n",
              " '1015': {'name': 'Cashew', 'pr': 1000, 'qn': 10},\n",
              " '1016': {'name': 'Dates', 'pr': 1200, 'qn': 10},\n",
              " '1017': {'name': 'Pistachios', 'pr': 1000, 'qn': 10},\n",
              " '1018': {'name': 'Peanut', 'pr': 500, 'qn': 20},\n",
              " '1019': {'name': 'Honey', 'pr': 600, 'qn': 5},\n",
              " '1020': {'name': 'Cream roll', 'pr': 50, 'qn': 20},\n",
              " '1021': {'name': 'Cup cakes', 'pr': 50, 'qn': 25},\n",
              " '1022': {'name': 'Lassi', 'pr': 60, 'qn': 20},\n",
              " '1023': {'name': 'Milk', 'pr': 60, 'qn': 15},\n",
              " '1024': {'name': 'Wafers', 'pr': 10, 'qn': 150},\n",
              " '1025': {'name': 'Candy', 'pr': 5, 'qn': 200},\n",
              " '1026': {'name': 'Jelly', 'pr': 10, 'qn': 100},\n",
              " '1027': {'name': 'Kinder joy', 'pr': 50, 'qn': 25},\n",
              " '1028': {'name': 'Gems', 'pr': 20, 'qn': 30},\n",
              " '1029': {'name': 'Namkeen', 'pr': 240, 'qn': 50},\n",
              " '1030': {'name': 'Bisleri water', 'pr': 20, 'qn': 80}}"
            ]
          },
          "metadata": {},
          "execution_count": 61
        }
      ]
    },
    {
      "cell_type": "markdown",
      "metadata": {
        "id": "UrLVsJsolaAi"
      },
      "source": [
        "Purchase"
      ]
    },
    {
      "cell_type": "code",
      "metadata": {
        "id": "bpe4sKVPktpE",
        "colab": {
          "base_uri": "https://localhost:8080/"
        },
        "outputId": "11d502b1-6933-466e-b779-3daf3fb4adc8"
      },
      "source": [
        "print(\"Welcome to Kwality Bakery!!\")\n",
        "print(\"What you want?\")\n",
        "ui_prodId=str(input(\"Enter Product Id :\"))\n",
        "ui_Quant=int(input(\"Enter Quantity of Product :\"))\n",
        "\n",
        "print(\"Product: \", records[ui_prodId]['name'])\n",
        "print(\"Price: \", records[ui_prodId]['pr'])\n",
        "print(\"Billing Amount: \", records[ui_prodId]['pr'] * ui_Quant)\n",
        "\n",
        "records[ui_prodId]['qn'] = records[ui_prodId]['qn'] - ui_Quant"
      ],
      "execution_count": 69,
      "outputs": [
        {
          "output_type": "stream",
          "name": "stdout",
          "text": [
            "Welcome to Kwality Bakery!!\n",
            "What you want?\n",
            "Enter Product Id :1030\n",
            "Enter Quantity of Product :2\n",
            "Product:  Bisleri water\n",
            "Price:  20\n",
            "Billing Amount:  40\n"
          ]
        }
      ]
    },
    {
      "cell_type": "markdown",
      "metadata": {
        "id": "4ajbWcfWmHEt"
      },
      "source": [
        "Update Inventory"
      ]
    },
    {
      "cell_type": "code",
      "metadata": {
        "id": "EOUULn9AktsC"
      },
      "source": [
        "js = json.dumps(records)\n",
        "\n",
        "fd = open(\"record.json\",'w')\n",
        "fd.write(js)\n",
        "fd.close()"
      ],
      "execution_count": 70,
      "outputs": []
    },
    {
      "cell_type": "markdown",
      "metadata": {
        "id": "8MkbLNZ_xKDM"
      },
      "source": [
        "Sale file"
      ]
    },
    {
      "cell_type": "code",
      "metadata": {
        "id": "RFqQy2vlktu8"
      },
      "source": [
        "sale=[{'prod' : ui_prodId, 'qn' : ui_Quant, 'amount': records[ui_prodId]['pr'] * ui_Quant}]"
      ],
      "execution_count": 64,
      "outputs": []
    },
    {
      "cell_type": "code",
      "metadata": {
        "id": "F-KaMkSNktxq",
        "colab": {
          "base_uri": "https://localhost:8080/",
          "height": 35
        },
        "outputId": "8b744eab-d0b3-4c1a-d3a2-c31f6c2c3ae2"
      },
      "source": [
        "sale"
      ],
      "execution_count": 71,
      "outputs": [
        {
          "output_type": "execute_result",
          "data": {
            "application/vnd.google.colaboratory.intrinsic+json": {
              "type": "string"
            },
            "text/plain": [
              "'{\"prod\": \"1005\", \"qn\": 2, \"amount\": 40}'"
            ]
          },
          "metadata": {},
          "execution_count": 71
        }
      ]
    },
    {
      "cell_type": "code",
      "metadata": {
        "id": "0oIWbf8ikt0M"
      },
      "source": [
        "sale = json.dumps(sales)\n",
        "\n",
        "fd = open(\"sales.json\",'a')\n",
        "fd.write(sale)\n",
        "fd.close()\n"
      ],
      "execution_count": 72,
      "outputs": []
    },
    {
      "cell_type": "code",
      "metadata": {
        "id": "r5o0lVP8X522"
      },
      "source": [
        "with open(\"/content/sales.json\", mode='w') as f:\n",
        "    sale.append({'prod' : ui_prodId, 'qn' : ui_Quant, 'amount': records[ui_prodId]['pr'] * ui_Quant})\n",
        "    json.dump(sale, f)"
      ],
      "execution_count": null,
      "outputs": []
    },
    {
      "cell_type": "code",
      "metadata": {
        "id": "0Js9kkYPt_3A"
      },
      "source": [
        ""
      ],
      "execution_count": null,
      "outputs": []
    }
  ]
}