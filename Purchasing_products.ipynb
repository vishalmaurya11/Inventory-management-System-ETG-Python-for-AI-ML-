{
  "nbformat": 4,
  "nbformat_minor": 0,
  "metadata": {
    "colab": {
      "name": "Purchasing products.ipynb",
      "provenance": []
    },
    "kernelspec": {
      "name": "python3",
      "display_name": "Python 3"
    },
    "language_info": {
      "name": "python"
    }
  },
  "cells": [
    {
      "cell_type": "code",
      "metadata": {
        "id": "mhefErOLkZCy"
      },
      "source": [
        "import json\n",
        "fd=open(\"record.json\",'r')\n",
        "r=fd.read()\n",
        "fd.close()\n",
        "\n",
        "records=json.loads(r)"
      ],
      "execution_count": 3,
      "outputs": []
    },
    {
      "cell_type": "code",
      "metadata": {
        "id": "6oxpsEuvktk5"
      },
      "source": [
        "records"
      ],
      "execution_count": null,
      "outputs": []
    },
    {
      "cell_type": "markdown",
      "metadata": {
        "id": "UrLVsJsolaAi"
      },
      "source": [
        "Purchase"
      ]
    },
    {
      "cell_type": "code",
      "metadata": {
        "id": "bpe4sKVPktpE"
      },
      "source": [
        "print(\"Welcome to Kwality Bakery!!\")\n",
        "print(\"What you want?\")\n",
        "ui_prodId=str(input(\"Enter Product Id :\"))\n",
        "ui_Quant=int(input(\"Enter Quantity of Product :\"))\n",
        "\n",
        "print(\"Product: \", records[ui_prodId]['name'])\n",
        "print(\"Price: \", records[ui_prodId]['pr'])\n",
        "print(\"Billing Amount: \", records[ui_prodId]['pr'] * ui_Quant)\n",
        "\n",
        "records[ui_prodId]['qn'] = records[ui_prodId]['qn'] - ui_Quant"
      ],
      "execution_count": null,
      "outputs": []
    },
    {
      "cell_type": "markdown",
      "metadata": {
        "id": "4ajbWcfWmHEt"
      },
      "source": [
        "Update Inventory"
      ]
    },
    {
      "cell_type": "code",
      "metadata": {
        "id": "EOUULn9AktsC"
      },
      "source": [
        "js = json.dumps(records)\n",
        "\n",
        "fd = open(\"record.json\",'w')\n",
        "fd.write(js)\n",
        "fd.close()"
      ],
      "execution_count": null,
      "outputs": []
    },
    {
      "cell_type": "markdown",
      "metadata": {
        "id": "8MkbLNZ_xKDM"
      },
      "source": [
        "Sale file"
      ]
    },
    {
      "cell_type": "code",
      "metadata": {
        "colab": {
          "base_uri": "https://localhost:8080/"
        },
        "id": "RFqQy2vlktu8",
        "outputId": "0d9f0ab9-2c8a-4cc9-fb8b-e4d0dc1aac71"
      },
      "source": [
        "{'prod' : ui_prodId, 'qn' : ui_Quant, 'amount': records[ui_prodId]['pr'] * ui_Quant}"
      ],
      "execution_count": 36,
      "outputs": [
        {
          "output_type": "execute_result",
          "data": {
            "text/plain": [
              "{'amount': 500, 'prod': '1001', 'qn': 5}"
            ]
          },
          "metadata": {},
          "execution_count": 36
        }
      ]
    },
    {
      "cell_type": "code",
      "metadata": {
        "id": "F-KaMkSNktxq"
      },
      "source": [
        "sales = {1 : {'prod' : ui_prodId, 'qn' : ui_Quant, 'amount': records[ui_prodId]['pr'] * ui_Quant}}"
      ],
      "execution_count": 34,
      "outputs": []
    },
    {
      "cell_type": "code",
      "metadata": {
        "colab": {
          "base_uri": "https://localhost:8080/"
        },
        "id": "0oIWbf8ikt0M",
        "outputId": "e75535de-4b3f-4fa0-8391-47d2c85cb5ef"
      },
      "source": [
        "sales\n"
      ],
      "execution_count": 35,
      "outputs": [
        {
          "output_type": "execute_result",
          "data": {
            "text/plain": [
              "{1: {'amount': 500, 'prod': '1001', 'qn': 5}}"
            ]
          },
          "metadata": {},
          "execution_count": 35
        }
      ]
    },
    {
      "cell_type": "code",
      "metadata": {
        "id": "0Js9kkYPt_3A"
      },
      "source": [
        ""
      ],
      "execution_count": null,
      "outputs": []
    }
  ]
}